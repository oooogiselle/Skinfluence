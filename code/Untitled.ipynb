{
 "cells": [
  {
   "cell_type": "code",
   "execution_count": 10,
   "id": "7b4860f5",
   "metadata": {},
   "outputs": [],
   "source": [
    "import pandas as pd\n",
    "import numpy as np\n",
    "from datetime import datetime\n",
    "import matplotlib.pyplot as plt\n",
    "import seaborn as sns\n",
    "import re\n",
    "import nltk\n",
    "from nltk.sentiment import SentimentIntensityAnalyzer\n",
    "from nltk.corpus import stopwords\n",
    "\n",
    "from collections import Counter\n",
    "from sklearn.feature_extraction.text import CountVectorizer, TfidfVectorizer\n",
    "\n",
    "import requests\n",
    "from urllib.parse import urlparse\n",
    "\n",
    "from PIL import Image\n",
    "from io import BytesIO\n",
    "\n",
    "from sklearn.decomposition import PCA\n",
    "from sklearn.cluster import KMeans\n",
    "from sklearn.manifold import TSNE\n",
    "\n",
    "import scipy.stats as stats\n"
   ]
  },
  {
   "cell_type": "code",
   "execution_count": 17,
   "id": "660c9654",
   "metadata": {},
   "outputs": [
    {
     "data": {
      "text/plain": [
       "Index(['video_id', 'title', 'description', 'channel', 'published', 'views',\n",
       "       'likes', 'comments'],\n",
       "      dtype='object')"
      ]
     },
     "execution_count": 17,
     "metadata": {},
     "output_type": "execute_result"
    }
   ],
   "source": [
    "fenty_df = pd.read_csv(\"/Users/giselle/Desktop/Dartmouth/Skinfluence/data/youtube_fenty.csv\")\n",
    "fenty_df.columns"
   ]
  },
  {
   "cell_type": "code",
   "execution_count": 21,
   "id": "50ca43a4",
   "metadata": {},
   "outputs": [
    {
     "data": {
      "text/html": [
       "<div>\n",
       "<style scoped>\n",
       "    .dataframe tbody tr th:only-of-type {\n",
       "        vertical-align: middle;\n",
       "    }\n",
       "\n",
       "    .dataframe tbody tr th {\n",
       "        vertical-align: top;\n",
       "    }\n",
       "\n",
       "    .dataframe thead th {\n",
       "        text-align: right;\n",
       "    }\n",
       "</style>\n",
       "<table border=\"1\" class=\"dataframe\">\n",
       "  <thead>\n",
       "    <tr style=\"text-align: right;\">\n",
       "      <th></th>\n",
       "      <th>video_id</th>\n",
       "      <th>title</th>\n",
       "      <th>description</th>\n",
       "      <th>channel</th>\n",
       "      <th>published</th>\n",
       "      <th>views</th>\n",
       "      <th>likes</th>\n",
       "      <th>comments</th>\n",
       "    </tr>\n",
       "  </thead>\n",
       "  <tbody>\n",
       "    <tr>\n",
       "      <th>0</th>\n",
       "      <td>GY90IvsNbvw</td>\n",
       "      <td>TOP 5 FENTY BEAUTY PRODUCTS</td>\n",
       "      <td>MENTIONED Gloss Bomb https://go.magik.ly/ml/1r...</td>\n",
       "      <td>Morgan Turner</td>\n",
       "      <td>2023-02-14T22:00:07Z</td>\n",
       "      <td>254400</td>\n",
       "      <td>17591.0</td>\n",
       "      <td>87.0</td>\n",
       "    </tr>\n",
       "    <tr>\n",
       "      <th>1</th>\n",
       "      <td>A50_AmSTdVE</td>\n",
       "      <td>Rihanna’s before &amp;amp; after using THIS founda...</td>\n",
       "      <td>NaN</td>\n",
       "      <td>Fenty Beauty By Rihanna</td>\n",
       "      <td>2024-08-07T21:49:02Z</td>\n",
       "      <td>4308333</td>\n",
       "      <td>216894.0</td>\n",
       "      <td>1990.0</td>\n",
       "    </tr>\n",
       "    <tr>\n",
       "      <th>2</th>\n",
       "      <td>4LwpGaDKmZ8</td>\n",
       "      <td>FENTY BEAUTY by RIHANNA... Is It Jeffree Star ...</td>\n",
       "      <td>HEY EVERYONE! Today I'm doing a review and fir...</td>\n",
       "      <td>jeffreestar</td>\n",
       "      <td>2017-09-08T21:50:21Z</td>\n",
       "      <td>13370589</td>\n",
       "      <td>322285.0</td>\n",
       "      <td>19902.0</td>\n",
       "    </tr>\n",
       "    <tr>\n",
       "      <th>3</th>\n",
       "      <td>N_zDcuX1Y54</td>\n",
       "      <td>RIHANNA: FENTY BEAUTY - Review + First Impress...</td>\n",
       "      <td>Make sure you subscribe to my channel and hit ...</td>\n",
       "      <td>NikkieTutorials</td>\n",
       "      <td>2017-09-19T20:33:57Z</td>\n",
       "      <td>10381946</td>\n",
       "      <td>252956.0</td>\n",
       "      <td>10111.0</td>\n",
       "    </tr>\n",
       "    <tr>\n",
       "      <th>4</th>\n",
       "      <td>bH7M3vBcdcw</td>\n",
       "      <td>FENTY BEAUTY BY RIHANNA | FULL FACE + REVIEW |...</td>\n",
       "      <td>I've been dying to get my hands on the NEW Fen...</td>\n",
       "      <td>Jasmine Brown</td>\n",
       "      <td>2017-09-10T16:12:13Z</td>\n",
       "      <td>668028</td>\n",
       "      <td>24543.0</td>\n",
       "      <td>705.0</td>\n",
       "    </tr>\n",
       "  </tbody>\n",
       "</table>\n",
       "</div>"
      ],
      "text/plain": [
       "      video_id                                              title  \\\n",
       "0  GY90IvsNbvw                        TOP 5 FENTY BEAUTY PRODUCTS   \n",
       "1  A50_AmSTdVE  Rihanna’s before &amp; after using THIS founda...   \n",
       "2  4LwpGaDKmZ8  FENTY BEAUTY by RIHANNA... Is It Jeffree Star ...   \n",
       "3  N_zDcuX1Y54  RIHANNA: FENTY BEAUTY - Review + First Impress...   \n",
       "4  bH7M3vBcdcw  FENTY BEAUTY BY RIHANNA | FULL FACE + REVIEW |...   \n",
       "\n",
       "                                         description                  channel  \\\n",
       "0  MENTIONED Gloss Bomb https://go.magik.ly/ml/1r...            Morgan Turner   \n",
       "1                                                NaN  Fenty Beauty By Rihanna   \n",
       "2  HEY EVERYONE! Today I'm doing a review and fir...              jeffreestar   \n",
       "3  Make sure you subscribe to my channel and hit ...          NikkieTutorials   \n",
       "4  I've been dying to get my hands on the NEW Fen...            Jasmine Brown   \n",
       "\n",
       "              published     views     likes  comments  \n",
       "0  2023-02-14T22:00:07Z    254400   17591.0      87.0  \n",
       "1  2024-08-07T21:49:02Z   4308333  216894.0    1990.0  \n",
       "2  2017-09-08T21:50:21Z  13370589  322285.0   19902.0  \n",
       "3  2017-09-19T20:33:57Z  10381946  252956.0   10111.0  \n",
       "4  2017-09-10T16:12:13Z    668028   24543.0     705.0  "
      ]
     },
     "execution_count": 21,
     "metadata": {},
     "output_type": "execute_result"
    }
   ],
   "source": [
    "# Content Performance\n",
    "fenty_df.head()\n"
   ]
  },
  {
   "cell_type": "code",
   "execution_count": 16,
   "id": "76c4152d",
   "metadata": {},
   "outputs": [
    {
     "name": "stdout",
     "output_type": "stream",
     "text": [
      "Average likes: 1762.0083010514666\n",
      "Average comments: 30.86026563364693\n",
      "Average views: 113021.05700055341\n"
     ]
    }
   ],
   "source": [
    "print(\"Average likes:\", df_clean['like_count'].mean())\n",
    "print(\"Average comments:\", df_clean['comment_count'].mean())\n",
    "print(\"Average views:\", df_clean['view_count'].mean())\n",
    "\n",
    "# Engagement rate: (likes + comments) / views\n",
    "df_clean = df_clean.copy()  # Make an explicit copy first\n",
    "df_clean['engagement_rate'] = (df_clean['like_count'] + df_clean['comment_count']) / df_clean['view_count']\n"
   ]
  },
  {
   "cell_type": "code",
   "execution_count": null,
   "id": "4c5bd15c",
   "metadata": {},
   "outputs": [],
   "source": []
  }
 ],
 "metadata": {
  "kernelspec": {
   "display_name": "Python 3 (ipykernel)",
   "language": "python",
   "name": "python3"
  },
  "language_info": {
   "codemirror_mode": {
    "name": "ipython",
    "version": 3
   },
   "file_extension": ".py",
   "mimetype": "text/x-python",
   "name": "python",
   "nbconvert_exporter": "python",
   "pygments_lexer": "ipython3",
   "version": "3.10.5"
  }
 },
 "nbformat": 4,
 "nbformat_minor": 5
}
