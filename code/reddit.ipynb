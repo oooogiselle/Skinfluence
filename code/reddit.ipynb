{
 "cells": [
  {
   "cell_type": "markdown",
   "metadata": {},
   "source": [
    "## Reddit Scraping\n",
    "Documentation reference: https://praw.readthedocs.io/en/stable/"
   ]
  },
  {
   "cell_type": "code",
   "execution_count": 40,
   "metadata": {},
   "outputs": [
    {
     "data": {
      "text/plain": [
       "True"
      ]
     },
     "execution_count": 40,
     "metadata": {},
     "output_type": "execute_result"
    }
   ],
   "source": [
    "import requests\n",
    "import pandas as pd\n",
    "import praw\n",
    "from praw.models import MoreComments\n",
    "\n",
    "import os\n",
    "import zipfile\n",
    "\n",
    "os.makedirs(\"../output\", exist_ok=True)\n",
    "from dotenv import load_dotenv\n",
    "load_dotenv()\n"
   ]
  },
  {
   "cell_type": "markdown",
   "metadata": {},
   "source": [
    "# Scrape post from related subreddits\n",
    "Usage: Consumer sentiment analysis "
   ]
  },
  {
   "cell_type": "code",
   "execution_count": 43,
   "metadata": {},
   "outputs": [],
   "source": [
    "\n",
    "reddit = praw.Reddit(\n",
    "    client_id=os.getenv(\"REDDIT_CLIENT_ID\"),\n",
    "    client_secret=os.getenv(\"REDDIT_CLIENT_SECRET\"),\n",
    "    user_agent=os.getenv(\"REDDIT_USER_AGENT\"),\n",
    "    username=os.getenv(\"REDDIT_USERNAME\"),\n",
    ")\n",
    "\n",
    "# \"Skincare_Addiction\", \"asianskincare\", \"Blackskincare\",\"SkincareAddicts\"\n",
    "subreddit_list = [\"SkincareAddiction\",]\n",
    "\n",
    "all_posts = []\n",
    "\n",
    "# get the top 20 post from each subreddit (don't know rate limit so 20 for now)\n",
    "# Documentation: https://praw.readthedocs.io/en/stable/code_overview/models/subreddit.html\n",
    "def get_top_comments(post):\n",
    "\n",
    "    post.comments.replace_more(limit=0)  \n",
    "\n",
    "    top_comments = []\n",
    "    for comment in post.comments:\n",
    "        if isinstance(comment, MoreComments):\n",
    "            continue \n",
    "        top_comments.append(comment.body)\n",
    "        if len(top_comments) == 5:\n",
    "            break\n",
    "    return top_comments\n",
    "        \n",
    "for sub in subreddit_list:\n",
    "    try:\n",
    "        post_collection = reddit.subreddit(sub).top(limit=20)  \n",
    "        for post in post_collection: \n",
    "            top_comments = get_top_comments(post)\n",
    "            all_posts.append({\n",
    "            \"subreddit_name\": sub,\n",
    "            \"post_id\": post.id,\n",
    "            \"title\": post.title,\n",
    "            \"description\": post.selftext,\n",
    "            \"score\": post.score,\n",
    "            \"num_comments\": post.num_comments,\n",
    "            \"top_comments\": top_comments,\n",
    "            \"upvote_ratio\": post.upvote_ratio,\n",
    "           })\n",
    "    except Exception as e:\n",
    "        print(f\"Error scraping {sub}: {e}\")\n",
    "        continue\n",
    "    \n",
    "subreddit_df = pd.DataFrame(all_posts)\n",
    "subreddit_df\n",
    "subreddit_df.to_csv(\"../output/subreddit_data.csv\", index=False)\n",
    "\n"
   ]
  },
  {
   "cell_type": "code",
   "execution_count": 46,
   "metadata": {},
   "outputs": [
    {
     "data": {
      "text/plain": [
       "\"['IM JUST SO FUCKING HAPPY FOR YOU. OH MY GOD IM SO EXCITED YOU LOOK BEAUTIFUL 😍', 'For my grad makeup I’m wearing a light coverage foundation just to cover the scars, but the difference in texture of my skin in both pics is so so astounding!! I started accutane January 2nd, 2018, and just finished it on June 4th. Still got those dry lips though. \\\\n\\\\nFor my routine I’ve kept it pretty simple:\\\\n \\\\nAM\\\\nCetaphil Gentle Skin Cleanser\\\\nCetaphil Daily Facial Mosturizer with SPF\\\\n\\\\nPM\\\\nCetaphil Gentle Skin Cleanser\\\\nThayers Lavender Witch Hazel\\\\nCetaphil Daily Facial Mosturizer with SPF\\\\n\\\\nEdit : Wow I just want to thank everyone for their really kind words. I really appreciate all the support and the positivity being spread around, it’s such an amazing feeling to be happy with your own skin again!! \\\\n\\\\nI’ve been having problems with acne for about 5 years now, and for anyone asking or worrying about accutane, I personally wish I’d started it sooner. Of course, I’m not an expert and you should definitely talk with a dermatologist about the drug, but in my case it was really worth it! To just be able to go to the grocery store without any makeup on and not worry about people looking at you is a feeling I haven’t had in a while. \\\\n\\\\nI’m extremely thankful that I was able to feel so confident in my dress, standing with my beautiful friends as we went to our graduation banquet last night. It was an amazing experience, and I’m just happy that high school is coming to an end! \\\\n\\\\nSo again, thank you to everyone for the congratulations, I’m glad to have shared some of my experience with anyone else going through the same thing right now. ', 'Ho....ly.....crap. You look glowing. Not just your skin which is incredible, but your smile too. Congrats on the wonderful progress! ', 'You look beautiful! Congrats! ', 'The expression on your face says it all.  Glad that this treatment regimen worked for you.  Beautiful.']\""
      ]
     },
     "execution_count": 46,
     "metadata": {},
     "output_type": "execute_result"
    }
   ],
   "source": [
    "skincare_df = pd.read_csv(\"../output/subreddit_data.csv\")\n",
    "skincare_df.head()\n"
   ]
  }
 ],
 "metadata": {
  "kernelspec": {
   "display_name": "qss-nlp",
   "language": "python",
   "name": "python3"
  },
  "language_info": {
   "codemirror_mode": {
    "name": "ipython",
    "version": 3
   },
   "file_extension": ".py",
   "mimetype": "text/x-python",
   "name": "python",
   "nbconvert_exporter": "python",
   "pygments_lexer": "ipython3",
   "version": "3.11.8"
  }
 },
 "nbformat": 4,
 "nbformat_minor": 2
}
