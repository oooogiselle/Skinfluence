{
 "cells": [
  {
   "cell_type": "markdown",
   "metadata": {},
   "source": [
    "## Brand data set\n",
    "We will be collecting set of skin care brand from different data set to improve accuracy of our analysis"
   ]
  },
  {
   "cell_type": "code",
   "execution_count": 3,
   "metadata": {},
   "outputs": [],
   "source": [
    "import pandas as pd\n",
    "import praw\n",
    "from bs4 import BeautifulSoup # library for parsing html\n",
    "import os \n",
    "os.makedirs(\"../output\", exist_ok=True)"
   ]
  },
  {
   "cell_type": "code",
   "execution_count": null,
   "metadata": {},
   "outputs": [],
   "source": [
    " # cosmetic company tend to also sell skincare, so using this to build list of as many skin care brand as possible\n",
    " # these data sets are found from kaggle \n",
    " \n",
    "cosmetics_list = pd.read_csv(\"../output/cosmetics.csv\")\n",
    "product_info_data = pd.read_csv(\"../output/product_info.csv\")\n",
    "skincare_list = pd.read_csv(\"../output/skincare.csv\")\n",
    "skincare2_list = pd.read_csv(\"../output/skincare2.csv\")\n",
    "all_brands = list(set(cosmetics_list[\"Brand\"].str.lower().unique().tolist() + product_info_data[\"brand_name\"].str.lower().unique().tolist() + skincare_list[\"Brand\"].str.lower().unique().tolist() + skincare2_list[\"brand\"].str.lower().unique().tolist()))\n",
    "pd.DataFrame(all_brands, columns=[\"brand_name\"]).sort_values(by=\"brand_name\").to_csv(\"../output/all_brands.csv\", index=False)\n",
    "\n"
   ]
  }
 ],
 "metadata": {
  "kernelspec": {
   "display_name": "qss-nlp",
   "language": "python",
   "name": "python3"
  },
  "language_info": {
   "codemirror_mode": {
    "name": "ipython",
    "version": 3
   },
   "file_extension": ".py",
   "mimetype": "text/x-python",
   "name": "python",
   "nbconvert_exporter": "python",
   "pygments_lexer": "ipython3",
   "version": "3.11.8"
  }
 },
 "nbformat": 4,
 "nbformat_minor": 2
}
