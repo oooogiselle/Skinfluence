{
 "cells": [
  {
   "cell_type": "markdown",
   "metadata": {},
   "source": [
    "## Brand data set\n",
    "\n",
    "We will be scraping data from these list of brands: \n",
    "\n",
    "Top 5 US Beauty Brands \n",
    "Estée Lauder\n",
    "Fenty Beauty (by Rihanna)\n",
    "e.l.f. Cosmetics\n",
    "Tarte Cosmetics\n",
    "Glossier \n",
    "\n",
    "Top 5 Korean beauty brands \n",
    "Laneige \n",
    "Sulwhasoo\n",
    "Etude House\n",
    "Innisfree\n",
    "COSRX \n",
    "\n",
    "Columns: Brand name, slogan, values, and top selling products (maybe their description)\n"
   ]
  },
  {
   "cell_type": "code",
   "execution_count": null,
   "metadata": {},
   "outputs": [],
   "source": [
    "import pandas as pd\n",
    "import praw\n",
    "from bs4 import BeautifulSoup # library for parsing html\n",
    "import json\n",
    "with open(\"brandList.json\", \"r\") as f:\n",
    "    brand_data = json.load(f)\n",
    "import os "
   ]
  },
  {
   "cell_type": "code",
   "execution_count": null,
   "metadata": {},
   "outputs": [],
   "source": [
    "us_brands = brand_data[\"us_brands\"]\n",
    "korean_brands = brand_data[\"korean_brands\"]\n",
    "\n",
    "\n",
    "\n",
    "\n"
   ]
  }
 ],
 "metadata": {
  "language_info": {
   "name": "python"
  }
 },
 "nbformat": 4,
 "nbformat_minor": 2
}
