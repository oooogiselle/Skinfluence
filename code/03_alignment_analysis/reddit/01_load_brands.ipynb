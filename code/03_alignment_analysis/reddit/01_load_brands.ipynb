{
 "cells": [
  {
   "cell_type": "markdown",
   "metadata": {},
   "source": [
    "## Load Brand Data \n",
    "The script here compiles a list of skin care brand from various kaggle datasets. The resulting list will be used to filter out Reddit comments referencing unrelated brands for a more accurate brand alignment analysis. "
   ]
  },
  {
   "cell_type": "code",
   "execution_count": 15,
   "metadata": {},
   "outputs": [],
   "source": [
    "import pandas as pd\n",
    "import praw\n",
    "from bs4 import BeautifulSoup # library for parsing html\n",
    "import os \n",
    "\n",
    "data_path = '../../../data/brand/'"
   ]
  },
  {
   "cell_type": "code",
   "execution_count": 16,
   "metadata": {},
   "outputs": [],
   "source": [
    " # cosmetic company tend to also sell skincare, so using this to build list of as many skin care brand as possible\n",
    " # these data sets are found from kaggle \n",
    " \n",
    "cosmetics_list = pd.read_csv(os.path.join(data_path, \"cosmetics.csv\"))\n",
    "product_info_data = pd.read_csv(os.path.join(data_path, \"product_info.csv\"))\n",
    "skincare_list = pd.read_csv(os.path.join(data_path, \"skincare.csv\"))\n",
    "skincare2_list = pd.read_csv(os.path.join(data_path, \"skincare2.csv\"))\n",
    "all_brands = list(set(cosmetics_list[\"Brand\"].str.lower().unique().tolist() + product_info_data[\"brand_name\"].str.lower().unique().tolist() + skincare_list[\"Brand\"].str.lower().unique().tolist() + skincare2_list[\"brand\"].str.lower().unique().tolist()))\n",
    "pd.DataFrame(all_brands, columns=[\"brand_name\"]).sort_values(by=\"brand_name\").to_csv(data_path + \"all_brands.csv\", index=False)\n",
    "\n"
   ]
  }
 ],
 "metadata": {
  "kernelspec": {
   "display_name": "qss-nlp",
   "language": "python",
   "name": "python3"
  },
  "language_info": {
   "codemirror_mode": {
    "name": "ipython",
    "version": 3
   },
   "file_extension": ".py",
   "mimetype": "text/x-python",
   "name": "python",
   "nbconvert_exporter": "python",
   "pygments_lexer": "ipython3",
   "version": "3.11.8"
  }
 },
 "nbformat": 4,
 "nbformat_minor": 2
}
