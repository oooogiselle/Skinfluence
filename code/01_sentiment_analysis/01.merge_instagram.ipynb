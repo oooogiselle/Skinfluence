{
 "cells": [
  {
   "cell_type": "markdown",
   "metadata": {
    "vscode": {
     "languageId": "plaintext"
    }
   },
   "source": [
    "## Raw Instagram data\n",
    "Each instagram data set per brand is a in a separate csv. This file aims to compile them all together"
   ]
  },
  {
   "cell_type": "code",
   "execution_count": 2,
   "metadata": {},
   "outputs": [],
   "source": [
    "import pandas as pd\n",
    "import os"
   ]
  },
  {
   "cell_type": "code",
   "execution_count": 12,
   "metadata": {},
   "outputs": [
    {
     "name": "stderr",
     "output_type": "stream",
     "text": [
      "/var/folders/rg/04c1t0sd7zdc_6sl31l_r9km0000gn/T/ipykernel_40594/191279445.py:7: DtypeWarning: Columns (17) have mixed types. Specify dtype option on import or set low_memory=False.\n",
      "  df = pd.read_csv(f'../../data/instagram/{file}')\n",
      "/var/folders/rg/04c1t0sd7zdc_6sl31l_r9km0000gn/T/ipykernel_40594/191279445.py:7: DtypeWarning: Columns (17) have mixed types. Specify dtype option on import or set low_memory=False.\n",
      "  df = pd.read_csv(f'../../data/instagram/{file}')\n",
      "/var/folders/rg/04c1t0sd7zdc_6sl31l_r9km0000gn/T/ipykernel_40594/191279445.py:7: DtypeWarning: Columns (17) have mixed types. Specify dtype option on import or set low_memory=False.\n",
      "  df = pd.read_csv(f'../../data/instagram/{file}')\n"
     ]
    },
    {
     "data": {
      "text/plain": [
       "(216850, 20)"
      ]
     },
     "execution_count": 12,
     "metadata": {},
     "output_type": "execute_result"
    }
   ],
   "source": [
    "# Get list of all CSV files in instagram data directory\n",
    "instagram_files = [f for f in os.listdir('../../data/instagram') if f.endswith('.csv')]\n",
    "dfs = []\n",
    "\n",
    "# Read each CSV and append to list\n",
    "for file in instagram_files:\n",
    "    df = pd.read_csv(f'../../data/instagram/{file}')\n",
    "    # Add brand name from filename (remove .csv extension)\n",
    "    df['brand'] = file.replace('.csv', '')\n",
    "    dfs.append(df)\n",
    "\n",
    "instagram_merged = pd.concat(dfs, ignore_index=True)\n",
    "\n",
    "# # Save merged dataframe\n",
    "# instagram_merged.to_csv('../data/instagram_merged.csv', index=False)\n",
    "instagram_merged.shape"
   ]
  }
 ],
 "metadata": {
  "kernelspec": {
   "display_name": "qss-nlp",
   "language": "python",
   "name": "python3"
  },
  "language_info": {
   "codemirror_mode": {
    "name": "ipython",
    "version": 3
   },
   "file_extension": ".py",
   "mimetype": "text/x-python",
   "name": "python",
   "nbconvert_exporter": "python",
   "pygments_lexer": "ipython3",
   "version": "3.11.8"
  }
 },
 "nbformat": 4,
 "nbformat_minor": 2
}
