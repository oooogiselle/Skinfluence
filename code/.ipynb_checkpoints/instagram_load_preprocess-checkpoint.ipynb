{
 "cells": [
  {
   "cell_type": "code",
   "execution_count": 1,
   "id": "8d25cfa3",
   "metadata": {},
   "outputs": [],
   "source": [
    "## load packages\n",
    "import pandas as pd\n",
    "import re\n",
    "import numpy as np\n",
    "\n",
    "## nltk imports\n",
    "from nltk.tokenize import word_tokenize, wordpunct_tokenize\n",
    "from nltk.corpus import stopwords\n",
    "from nltk.stem.porter import PorterStemmer\n",
    "\n",
    "import matplotlib.pyplot as plt\n",
    "import seaborn as sns\n",
    "\n",
    "## sklearn imports\n",
    "from sklearn.feature_extraction.text import CountVectorizer\n",
    "\n",
    "## lda\n",
    "from gensim import corpora\n",
    "import gensim\n",
    "\n",
    "## sentiment analysis\n",
    "from vaderSentiment.vaderSentiment import SentimentIntensityAnalyzer\n",
    "\n",
    "## visualizing LDA\n",
    "import pyLDAvis.gensim_models as gensimvis\n",
    "import pyLDAvis\n",
    "pyLDAvis.enable_notebook()\n",
    "\n",
    "from IPython.core.interactiveshell import InteractiveShell\n",
    "InteractiveShell.ast_node_interactivity = \"all\"\n",
    "\n",
    "import random\n",
    "import string\n",
    "import spacy\n",
    "import en_core_web_sm\n",
    "import ast\n",
    "import networkx as nx\n",
    "from itertools import combinations\n",
    "from collections import Counter\n",
    "from netwulf import visualize\n",
    "sp = spacy.load('en_core_web_sm')\n",
    "nlp = en_core_web_sm.load()"
   ]
  },
  {
   "cell_type": "code",
   "execution_count": 5,
   "id": "bc20e1a7",
   "metadata": {},
   "outputs": [
    {
     "ename": "ModuleNotFoundError",
     "evalue": "No module named 'instagram_setup'",
     "output_type": "error",
     "traceback": [
      "\u001b[0;31m---------------------------------------------------------------------------\u001b[0m",
      "\u001b[0;31mModuleNotFoundError\u001b[0m                       Traceback (most recent call last)",
      "Cell \u001b[0;32mIn[5], line 1\u001b[0m\n\u001b[0;32m----> 1\u001b[0m \u001b[38;5;28;01mfrom\u001b[39;00m \u001b[38;5;21;01minstagram_setup\u001b[39;00m \u001b[38;5;28;01mimport\u001b[39;00m custom_words_toad, preprocess, create_dtm, compare_branded_hashtags\n",
      "\u001b[0;31mModuleNotFoundError\u001b[0m: No module named 'instagram_setup'"
     ]
    }
   ],
   "source": [
    "from instagram_setup import custom_words_toad, preprocess, create_dtm, compare_branded_hashtags"
   ]
  },
  {
   "cell_type": "code",
   "execution_count": 2,
   "id": "d17a4210",
   "metadata": {},
   "outputs": [],
   "source": [
    "## Load Data\n",
    "brand_files = {\n",
    "    \"Estée Lauder\": \"instagram_estee.csv\",\n",
    "    \"Tarte\": \"instagram_tarte.csv\",\n",
    "    \"Innisfree\": \"instagram_innisfree.csv\",\n",
    "    \"e.l.f\": \"instagram_elf.csv\",\n",
    "    \"Glossier\": \"instagram_glossier.csv\",\n",
    "    \"Laneige\": \"instagram_laneige.csv\",\n",
    "    \"Sulwhasoo\": \"instagram_sulwhasoo.csv\",\n",
    "    \"Etude\": \"instagram_etude.csv\",\n",
    "    \"COSRX\": \"instagram_cosrx.csv\",\n",
    "    \"Fenty Beauty\": \"instagram_fenty.csv\"\n",
    "}\n",
    "\n",
    "dfs = []\n",
    "for brand, filename in brand_files.items():\n",
    "    df = pd.read_csv(f\"../data/{filename}\", low_memory=False)\n",
    "    df[\"brand\"] = brand\n",
    "    dfs.append(df)\n",
    "\n",
    "all_df = pd.concat(dfs, ignore_index=True)"
   ]
  },
  {
   "cell_type": "code",
   "execution_count": null,
   "id": "39e097cd",
   "metadata": {},
   "outputs": [],
   "source": []
  }
 ],
 "metadata": {
  "kernelspec": {
   "display_name": "Python 3 (ipykernel)",
   "language": "python",
   "name": "python3"
  },
  "language_info": {
   "codemirror_mode": {
    "name": "ipython",
    "version": 3
   },
   "file_extension": ".py",
   "mimetype": "text/x-python",
   "name": "python",
   "nbconvert_exporter": "python",
   "pygments_lexer": "ipython3",
   "version": "3.10.5"
  }
 },
 "nbformat": 4,
 "nbformat_minor": 5
}
